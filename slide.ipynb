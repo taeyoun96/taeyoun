{
  "nbformat": 4,
  "nbformat_minor": 0,
  "metadata": {
    "colab": {
      "name": "Untitled1.ipynb",
      "version": "0.3.2",
      "provenance": [],
      "include_colab_link": true
    },
    "kernelspec": {
      "name": "python3",
      "display_name": "Python 3"
    }
  },
  "cells": [
    {
      "cell_type": "markdown",
      "metadata": {
        "id": "view-in-github",
        "colab_type": "text"
      },
      "source": [
        "<a href=\"https://colab.research.google.com/github/taeyoun96/taeyoun/blob/master/slide.ipynb\" target=\"_parent\"><img src=\"https://colab.research.google.com/assets/colab-badge.svg\" alt=\"Open In Colab\"/></a>"
      ]
    },
    {
      "metadata": {
        "id": "FNuZAQuVeZFs",
        "colab_type": "code",
        "colab": {
          "base_uri": "https://localhost:8080/",
          "height": 36
        },
        "outputId": "44a19013-d94a-4b4c-f2e0-e9d525cc9e32"
      },
      "cell_type": "code",
      "source": [
        "#다음 소스 코드를 완성하여 튜플 n에서 인덱스가 홀수인 요소들이 출력되게 만드세요.\n",
        "\n",
        "n = (-32, 75, 97, -10, 9, 32, 4, -15, 0, 76, 14, 2)\n",
        " \n",
        "print(n[1:len(n):2])"
      ],
      "execution_count": 3,
      "outputs": [
        {
          "output_type": "stream",
          "text": [
            "(75, -10, 32, -15, 76, 2)\n"
          ],
          "name": "stdout"
        }
      ]
    }
  ]
}