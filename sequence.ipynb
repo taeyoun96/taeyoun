{
  "nbformat": 4,
  "nbformat_minor": 0,
  "metadata": {
    "colab": {
      "name": "Untitled0.ipynb",
      "version": "0.3.2",
      "provenance": [],
      "include_colab_link": true
    },
    "kernelspec": {
      "name": "python3",
      "display_name": "Python 3"
    }
  },
  "cells": [
    {
      "cell_type": "markdown",
      "metadata": {
        "id": "view-in-github",
        "colab_type": "text"
      },
      "source": [
        "<a href=\"https://colab.research.google.com/github/taeyoun96/taeyoun/blob/master/sequence.ipynb\" target=\"_parent\"><img src=\"https://colab.research.google.com/assets/colab-badge.svg\" alt=\"Open In Colab\"/></a>"
      ]
    },
    {
      "metadata": {
        "id": "Vy2a3Oc-P6g2",
        "colab_type": "code",
        "colab": {
          "base_uri": "https://localhost:8080/",
          "height": 55
        },
        "outputId": "982a9665-40a8-489a-b5db-2730d86c157b"
      },
      "cell_type": "code",
      "source": [
        "#리스트 year에 연도, population에 서울시 인구수가 저장되어 있습니다. 다음 소스 코드를 완성하여 최근 3년간 연도와 인구수가 리스트로 출력되게 만드세요.\n",
        "\n",
        "\n",
        "year = [2011, 2012, 2013, 2014, 2015, 2016, 2017, 2018]\n",
        "population = [10249679, 10195318, 10143645, 10103233, 10022181, 9930616, 9857426, 9838892]\n",
        " \n",
        "print(year[-3:len(year)])\n",
        "print(population[-3:len(year)])"
      ],
      "execution_count": 1,
      "outputs": [
        {
          "output_type": "stream",
          "text": [
            "[2016, 2017, 2018]\n",
            "[9930616, 9857426, 9838892]\n"
          ],
          "name": "stdout"
        }
      ]
    }
  ]
}